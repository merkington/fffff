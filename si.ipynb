{
  "nbformat": 4,
  "nbformat_minor": 0,
  "metadata": {
    "colab": {
      "provenance": [],
      "authorship_tag": "ABX9TyNJHz+gPNXJS7KKea3SgnSw",
      "include_colab_link": true
    },
    "kernelspec": {
      "name": "python3",
      "display_name": "Python 3"
    },
    "language_info": {
      "name": "python"
    },
    "accelerator": "GPU",
    "gpuClass": "standard"
  },
  "cells": [
    {
      "cell_type": "markdown",
      "metadata": {
        "id": "view-in-github",
        "colab_type": "text"
      },
      "source": [
        "<a href=\"https://colab.research.google.com/github/merkington/fffff/blob/main/si.ipynb\" target=\"_parent\"><img src=\"https://colab.research.google.com/assets/colab-badge.svg\" alt=\"Open In Colab\"/></a>"
      ]
    },
    {
      "cell_type": "code",
      "source": [
        "import pandas as pd\n",
        "from sklearn.linear_model import LinearRegression\n",
        "from sklearn.preprocessing import StandardScaler, PolynomialFeatures\n",
        "from sklearn.model_selection import train_test_split\n",
        "\n",
        "# load data from URL into a pandas dataframe\n",
        "url = \"https://raw.githubusercontent.com/merkington/fffff/main/horror.csv\"\n",
        "df = pd.read_csv(url).dropna()\n",
        "df = df.rename(columns={'gross(in $)': 'gross'})\n",
        "\n",
        "# select the features and target variable\n",
        "X = df[['gross']]\n",
        "y = df['votes']\n",
        "\n",
        "# split the data into training and test sets\n",
        "X_train, X_test, y_train, y_test = train_test_split(X, y, test_size=0.2, random_state=42)\n",
        "\n",
        "# normalize the features\n",
        "scaler = StandardScaler()\n",
        "X_train_norm = scaler.fit_transform(X_train)\n",
        "X_test_norm = scaler.transform(X_test)\n",
        "\n",
        "# add polynomial features\n",
        "poly = PolynomialFeatures(degree=2)\n",
        "X_train_poly = poly.fit_transform(X_train_norm)\n",
        "X_test_poly = poly.transform(X_test_norm)\n",
        "\n",
        "# fit the model on the training data\n",
        "model = LinearRegression()\n",
        "model.fit(X_train_poly, y_train)\n",
        "\n",
        "# evaluate the model on the test data\n",
        "r2_score = model.score(X_test_poly, y_test)\n",
        "print(\"R-squared score:\", r2_score)\n"
      ],
      "metadata": {
        "colab": {
          "base_uri": "https://localhost:8080/"
        },
        "id": "3R-T3SWdETUg",
        "outputId": "d0adbfa8-a54f-487a-81be-b686496bb902"
      },
      "execution_count": 49,
      "outputs": [
        {
          "output_type": "stream",
          "name": "stdout",
          "text": [
            "R-squared score: 0.5930374890072294\n"
          ]
        }
      ]
    }
  ]
}